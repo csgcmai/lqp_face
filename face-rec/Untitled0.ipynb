{
 "metadata": {
  "name": "Untitled0"
 }, 
 "nbformat": 2, 
 "worksheets": [
  {
   "cells": [
    {
     "cell_type": "code", 
     "collapsed": false, 
     "input": [
      "idir='./'", 
      "f=open('config.py','r');", 
      "cfnames=['config_LTP_view1_wpca.py','config_LTP_view2_wpca.py','config_LTP_pca.py']", 
      "for fname in cfnames:", 
      "    wf=open(fname,'w');", 
      "    for l in f:", 
      "        #print l, len(l)", 
      "        l=l.lstrip().rstrip()", 
      "        if len(l) > 0 and  l.lstrip()[0]!='#':", 
      "            ", 
      "            if l.split('=')[0]== 'idir':", 
      "                print 'Input Directory = ', l.split('=')[1]", 
      "                l='idir='+idir;", 
      "            elif l.split('=')[0]== 'ftype':", 
      "                print 'Feature Type = ', l.split('=')[1]", 
      "                l='ftype=LTP';", 
      "            elif l.split('=')[0]== 'view':", 
      "                ", 
      "                print 'View = ', l.split('=')[1]", 
      "                if fname=='config_LTP_view1_wpca.py':", 
      "                    l='view=view1';", 
      "                elif fname=='config_LTP_view1_wpca.py':", 
      "                    l='view=view2';", 
      "                else:", 
      "                    l='view=complete';", 
      "                ", 
      "            elif l.split('=')[0]== 'dist':", 
      "                print 'Distance = ', l.split('=')[1]            ", 
      "                if fname=='config_LTP_pca.py':", 
      "                    l='dist=cosine'", 
      "                else:", 
      "                    l='dist=chi-square'", 
      "                    ", 
      "            wf.write(l+'\\n')", 
      "    wf.close()"
     ], 
     "language": "python", 
     "outputs": [
      {
       "output_type": "stream", 
       "stream": "stdout", 
       "text": [
        "Input Directory =  /home/hussain/datasets/LFW/lfwa # images directory path", 
        "Feature Type =  LQP # Feature types. Choice can be LBP, LTP, LBP+LTP or LQP", 
        "View =  complete # view2 # complete # Choice of the dataset, options cans be view1: used for", 
        "Distance =  cosine #  Distance metric for comparing features. Choices are cosine, chi-square and L2."
       ]
      }
     ], 
     "prompt_number": 7
    }, 
    {
     "cell_type": "code", 
     "collapsed": true, 
     "input": [], 
     "language": "python", 
     "outputs": []
    }
   ]
  }
 ]
}