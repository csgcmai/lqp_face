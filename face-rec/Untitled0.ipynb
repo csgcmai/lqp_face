{
 "metadata": {
  "name": "Untitled0"
 }, 
 "nbformat": 2, 
 "worksheets": [
  {
   "cells": [
    {
     "cell_type": "code", 
     "collapsed": false, 
     "input": [
      "f = open('config.py', 'r');", 
      "cfnames = ['config_LTP_view1_wpca.py', 'config_LTP_view2_wpca.py', 'config_LTP_pca.py']", 
      "for fname in cfnames:", 
      "    wf = open(fname, 'w');", 
      "    for l in f:", 
      "        # print l, len(l)", 
      "        l = l.lstrip().rstrip()", 
      "        if len(l) > 0 and  l.lstrip()[0] != '#':", 
      "            print l", 
      "            ls, rs = l.split('=')", 
      "            if ls == 'idir':", 
      "                print 'Input Directory = ', rs", 
      "                l = 'idir=' + idir;", 
      "            elif ls == 'ftype':", 
      "                print 'Feature Type = ', rs", 
      "                l = 'ftype=LTP';", 
      "            elif ls == 'view':", 
      "                ", 
      "                print 'View = ', rs", 
      "                if fname == 'config_LTP_view1_wpca.py':", 
      "                    l = 'view=view1';", 
      "                elif fname == 'config_LTP_view2_wpca.py':", 
      "                    l = 'view=view2';", 
      "                else:", 
      "                    l = 'view=complete';", 
      "                ", 
      "            elif ls == 'dist':", 
      "                print 'Distance = ', rs            ", 
      "                if fname == 'config_LTP_pca.py':", 
      "                    l = 'dist=cosine'", 
      "                else:", 
      "                    l = 'dist=chi-square'", 
      "            elif ls == 'ttype':", 
      "                print 'Distance = ', rs            ", 
      "                if fname == 'config_LTP_pca.py':", 
      "                    l = 'ttype=with-pca'", 
      "                else:", 
      "                    l = 'ttype=without-pca'                    ", 
      "        wf.write(l + '\\n')", 
      "    wf.close()", 
      "    f.seek(0)"
     ], 
     "language": "python", 
     "outputs": [
      {
       "ename": "ValueError", 
       "evalue": "need more than 1 value to unpack", 
       "output_type": "pyerr", 
       "traceback": [
        "\u001b[0;31m---------------------------------------------------------------------------\u001b[0m\n\u001b[0;31mValueError\u001b[0m                                Traceback (most recent call last)", 
        "\u001b[0;32m/home/scratch/testing/code/face-rec/<ipython-input-17-40bab0db13db>\u001b[0m in \u001b[0;36m<module>\u001b[0;34m()\u001b[0m\n\u001b[1;32m      7\u001b[0m         \u001b[0ml\u001b[0m \u001b[0;34m=\u001b[0m \u001b[0ml\u001b[0m\u001b[0;34m.\u001b[0m\u001b[0mlstrip\u001b[0m\u001b[0;34m(\u001b[0m\u001b[0;34m)\u001b[0m\u001b[0;34m.\u001b[0m\u001b[0mrstrip\u001b[0m\u001b[0;34m(\u001b[0m\u001b[0;34m)\u001b[0m\u001b[0;34m\u001b[0m\u001b[0m\n\u001b[1;32m      8\u001b[0m         \u001b[0;32mif\u001b[0m \u001b[0mlen\u001b[0m\u001b[0;34m(\u001b[0m\u001b[0ml\u001b[0m\u001b[0;34m)\u001b[0m \u001b[0;34m>\u001b[0m \u001b[0;36m0\u001b[0m \u001b[0;32mand\u001b[0m  \u001b[0ml\u001b[0m\u001b[0;34m.\u001b[0m\u001b[0mlstrip\u001b[0m\u001b[0;34m(\u001b[0m\u001b[0;34m)\u001b[0m\u001b[0;34m[\u001b[0m\u001b[0;36m0\u001b[0m\u001b[0;34m]\u001b[0m \u001b[0;34m!=\u001b[0m \u001b[0;34m'#'\u001b[0m\u001b[0;34m:\u001b[0m\u001b[0;34m\u001b[0m\u001b[0m\n\u001b[0;32m----> 9\u001b[0;31m             \u001b[0mls\u001b[0m\u001b[0;34m,\u001b[0m \u001b[0mrs\u001b[0m \u001b[0;34m=\u001b[0m \u001b[0ml\u001b[0m\u001b[0;34m.\u001b[0m\u001b[0msplit\u001b[0m\u001b[0;34m(\u001b[0m\u001b[0;34m'='\u001b[0m\u001b[0;34m)\u001b[0m\u001b[0;34m\u001b[0m\u001b[0m\n\u001b[0m\u001b[1;32m     10\u001b[0m             \u001b[0;32mif\u001b[0m \u001b[0mls\u001b[0m \u001b[0;34m==\u001b[0m \u001b[0;34m'idir'\u001b[0m\u001b[0;34m:\u001b[0m\u001b[0;34m\u001b[0m\u001b[0m\n\u001b[1;32m     11\u001b[0m                 \u001b[0;32mprint\u001b[0m \u001b[0;34m'Input Directory = '\u001b[0m\u001b[0;34m,\u001b[0m \u001b[0mrs\u001b[0m\u001b[0;34m\u001b[0m\u001b[0m\n", 
        "\u001b[0;31mValueError\u001b[0m: need more than 1 value to unpack"
       ]
      }
     ], 
     "prompt_number": 17
    }, 
    {
     "cell_type": "code", 
     "collapsed": true, 
     "input": [], 
     "language": "python", 
     "outputs": []
    }
   ]
  }
 ]
}