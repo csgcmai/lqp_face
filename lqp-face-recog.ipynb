{
 "metadata": {
  "name": "lqp-face-recog"
 }, 
 "nbformat": 2, 
 "worksheets": [
  {
   "cells": [
    {
     "cell_type": "markdown", 
     "source": [
      "Experiments on Deeply Funneled ", 
      "=============================", 
      "Cropping Offsets: (X x Y)= (+1 x -4)", 
      "", 
      "LBP Features", 
      "-------------"
     ]
    }, 
    {
     "cell_type": "code", 
     "collapsed": false, 
     "input": [
      "# Without PCA and Chi-Square Simpilarlity on View2", 
      "v2s=np.load('/scratch/testing/experiments-deeply-funelled/features/LBP/data/view2-LBP-chi-square-simple-threshold-model-results.npy')", 
      "print v2s", 
      "print 'Average Accuracy of Simple Model (Without PCA, Chi-Square Distance) on View2 = %0.2f'%(np.mean(v2s)*100)"
     ], 
     "language": "python", 
     "outputs": [
      {
       "output_type": "stream", 
       "stream": "stdout", 
       "text": [
        "[ 0.705       0.69        0.665       0.68166667  0.70166667  0.70166667", 
        "  0.72166667  0.68333333  0.65166667  0.685     ]", 
        "Average of Simple Model (Without PCA, Chi-Square Distance) on View2 = 68.87"
       ]
      }
     ], 
     "prompt_number": 11
    }, 
    {
     "cell_type": "code", 
     "collapsed": false, 
     "input": [
      "# With PCA (components = 500) and cosine Simpilarlity on View1", 
      "v2pca=np.load('/scratch/testing/experiments-deeply-funelled/features/LBP/data/view1-LBP-PCA-500-cosine-results.npy')", 
      "print v2pca", 
      "print 'Average Accuracy of Model (With PCA, Cosine Similarity) on View1 = %0.2f'%(v2pca[:,1]*100)"
     ], 
     "language": "python", 
     "outputs": [
      {
       "output_type": "stream", 
       "stream": "stdout", 
       "text": [
        "[[ 500.       0.798]]", 
        "Average of Model (With PCA, Cosine Similarity) on View1 = 79.80"
       ]
      }
     ], 
     "prompt_number": 12
    }, 
    {
     "cell_type": "code", 
     "collapsed": false, 
     "input": [
      "# With PCA (components = 500) and cosine Simpilarlity on View2", 
      "v2pca=np.load('/scratch/testing/experiments-deeply-funelled/features/LBP/data/view2-LBP-PCA-500-cosine-results.npy')", 
      "print v2pca", 
      "print 'Average Accuracy of Model (With PCA, Cosine Similarity) on View2 = %0.2f'%(np.mean(v2pca[:,1])*100)"
     ], 
     "language": "python", 
     "outputs": [
      {
       "output_type": "stream", 
       "stream": "stdout", 
       "text": [
        "[[ 500.            0.82166667]", 
        " [ 500.            0.79333333]", 
        " [ 500.            0.79833333]", 
        " [ 500.            0.81333333]", 
        " [ 500.            0.82166667]", 
        " [ 500.            0.83166667]", 
        " [ 500.            0.84      ]", 
        " [ 500.            0.80833333]", 
        " [ 500.            0.81166667]", 
        " [ 500.            0.80833333]]", 
        "Average of Model (With PCA, Cosine Similarity) on View2 = 81.48"
       ]
      }
     ], 
     "prompt_number": 9
    }, 
    {
     "cell_type": "markdown", 
     "source": [
      "LTP Features", 
      "-------------", 
      "$\\tau=5$"
     ]
    }, 
    {
     "cell_type": "code", 
     "collapsed": false, 
     "input": [
      "# Without PCA and Chi-Square Simpilarlity on View2", 
      "v2s=np.load('/scratch/testing/experiments-deeply-funelled/features/LTP-tolerance=5/data/view2-LTP-chi-square-simple-threshold-model-results.npy')", 
      "print v2s", 
      "print 'Average Accuracy of Simple Model (Without PCA, Chi-Square Distance) on View2 = %0.2f'%(np.mean(v2s)*100)"
     ], 
     "language": "python", 
     "outputs": [
      {
       "output_type": "stream", 
       "stream": "stdout", 
       "text": [
        "[ 0.70833333  0.725       0.68833333  0.68666667  0.72833333  0.71333333", 
        "  0.73833333  0.69        0.67833333  0.70666667]", 
        "Average Accuracy of Simple Model (Without PCA, Chi-Square Distance) on View2 = 70.63"
       ]
      }
     ], 
     "prompt_number": 21
    }, 
    {
     "cell_type": "code", 
     "collapsed": false, 
     "input": [
      "# With PCA (components = 500) and cosine Simpilarlity on View1", 
      "v2pca=np.load('/scratch/testing/experiments-deeply-funelled/features/LTP-tolerance=5/data/view1-LTP-PCA-500-cosine-results.npy')", 
      "print v2pca", 
      "print 'Average Accuracy o# With PCA (components = 500) and cosine Simpilarlity on View1 = %0.2f'%(v2pca[:,1]*100)"
     ], 
     "language": "python", 
     "outputs": [
      {
       "output_type": "stream", 
       "stream": "stdout", 
       "text": [
        "[[ 500.       0.813]]", 
        "Average Accuracy o# With PCA (components = 500) and cosine Simpilarlity on View1 = 81.30"
       ]
      }
     ], 
     "prompt_number": 41
    }, 
    {
     "cell_type": "code", 
     "collapsed": false, 
     "input": [
      "# With PCA (components = 500) and cosine Simpilarlity on View2", 
      "v2pca=np.load('/scratch/testing/experiments-deeply-funelled/features/LTP-tolerance=5/data/view2-LTP-PCA-500-cosine-results.npy')", 
      "print v2pca", 
      "print 'Average Accuracy of Model (With PCA, Cosine Similarity) on View2 = %0.2f'%(np.mean(v2pca[:,1])*100)"
     ], 
     "language": "python", 
     "outputs": [
      {
       "output_type": "stream", 
       "stream": "stdout", 
       "text": [
        "[[ 500.            0.80833333]", 
        " [ 500.            0.80666667]", 
        " [ 500.            0.815     ]", 
        " [ 500.            0.79833333]", 
        " [ 500.            0.82833333]", 
        " [ 500.            0.80166667]", 
        " [ 500.            0.82833333]", 
        " [ 500.            0.78333333]", 
        " [ 500.            0.8       ]", 
        " [ 500.            0.825     ]]", 
        "Average Accuracy of Model (With PCA, Cosine Similarity) on View2 = 80.95"
       ]
      }
     ], 
     "prompt_number": 38
    }, 
    {
     "cell_type": "markdown", 
     "source": [
      "RGB Images:"
     ]
    }, 
    {
     "cell_type": "code", 
     "collapsed": false, 
     "input": [
      "# Without PCA and Chi-Square Simpilarlity on View2", 
      "v2s=np.load('/scratch/testing/experiments-deeply-funelled/features-rgb/LTP-tolerance=5/data/view2-LTP-chi-square-simple-threshold-model-results.npy')", 
      "print v2s", 
      "print 'Average Accuracy of Simple Model (Without PCA, Chi-Square Distance) on View2 = %0.2f'%(np.mean(v2s)*100)"
     ], 
     "language": "python", 
     "outputs": [
      {
       "output_type": "stream", 
       "stream": "stdout", 
       "text": [
        "[ 0.69833333  0.71833333  0.68833333  0.675       0.725       0.71166667", 
        "  0.75833333  0.695       0.68333333  0.70166667]", 
        "Average Accuracy of Simple Model (Without PCA, Chi-Square Distance) on View2 = 70.55"
       ]
      }
     ], 
     "prompt_number": 17
    }, 
    {
     "cell_type": "markdown", 
     "source": [
      "Experiments on Deeply Funneled ", 
      "================================", 
      "Cropping Offsets: (X x Y)= (0 x 0)", 
      "", 
      "LTP Features", 
      "-------------", 
      "$\\tau=5$"
     ]
    }, 
    {
     "cell_type": "code", 
     "collapsed": false, 
     "input": [
      "# Without PCA and Chi-Square Simpilarlity on View2", 
      "v2s=np.load('/scratch/testing/experiments-deeply-funelled-xoffset=0-yoffset=0/features/LTP-tolerance=5/data/view2-LTP-chi-square-simple-threshold-model-results.npy')", 
      "print v2s", 
      "print 'Average Accuracy of Simple Model (Without PCA, Chi-Square Distance) on View2 = %0.2f'%(np.mean(v2s)*100)"
     ], 
     "language": "python", 
     "outputs": [
      {
       "output_type": "stream", 
       "stream": "stdout", 
       "text": [
        "[ 0.71166667  0.725       0.68666667  0.68333333  0.73666667  0.71833333", 
        "  0.73666667  0.69333333  0.66333333  0.71333333]", 
        "Average Accuracy of Simple Model (Without PCA, Chi-Square Distance) on View2 = 70.68"
       ]
      }
     ], 
     "prompt_number": 16
    }, 
    {
     "cell_type": "markdown", 
     "source": [
      "Experiments on LFW-Aligned", 
      "=============================", 
      "Cropping Offsets: (X x Y)= (+1 x -4)", 
      "", 
      "Feature Normalization= $\\sqrt{L1}$", 
      "LBP Features", 
      "-------------"
     ]
    }, 
    {
     "cell_type": "code", 
     "collapsed": false, 
     "input": [
      "# Without PCA and Chi-Square Simpilarlity on View2", 
      "sdir='/scratch/fr/lfw/new-data-xoffset=1-yoffset=-4/lbp-norm-1-/'", 
      "v2s=np.load(sdir+'data/view2-LBP-chi-square-simple-threshold-model-results.npy')", 
      "print v2s", 
      "print 'Average Accuracy of Simple Model (Without PCA, Chi-Square Distance) on View2 = %0.2f'%(np.mean(v2s)*100)"
     ], 
     "language": "python", 
     "outputs": [
      {
       "output_type": "stream", 
       "stream": "stdout", 
       "text": [
        "[ 0.73333333  0.71        0.71166667  0.695       0.685       0.73833333", 
        "  0.72        0.68833333  0.65666667  0.70833333]", 
        "Average Accuracy of Simple Model (Without PCA, Chi-Square Distance) on View2 = 70.47", 
        "[ 0.73333333  0.71        0.71166667  0.695       0.685       0.73833333", 
        "  0.72        0.68833333  0.65666667  0.70833333]", 
        "Average Accuracy of Simple Model (Without PCA, Chi-Square Distance) on View2 = 70.47"
       ]
      }
     ], 
     "prompt_number": 8
    }, 
    {
     "cell_type": "code", 
     "collapsed": false, 
     "input": [
      "# With PCA (components = 500) and cosine Simpilarlity on View1", 
      "sdir='/scratch/fr/lfw/new-data-xoffset=1-yoffset=-4/lbp-norm-1-/'", 
      "v2pca=np.load(sdir+'data/view1-LBP-PCA-500-cosine-results.npy')", 
      "print v2pca[-1,:]", 
      "print 'Average Accuracy of Model (With PCA, Cosine Similarity) on View1 = %0.2f'%(np.mean(v2pca[-1,1])*100)"
     ], 
     "language": "python", 
     "outputs": [
      {
       "output_type": "stream", 
       "stream": "stdout", 
       "text": [
        "[ 500.       0.833]", 
        "Average Accuracy of Model (With PCA, Cosine Similarity) on View1 = 83.30"
       ]
      }
     ], 
     "prompt_number": 35
    }, 
    {
     "cell_type": "code", 
     "collapsed": false, 
     "input": [
      "# With PCA (components = 500) and cosine Simpilarlity on View2", 
      "sdir='/scratch/fr/lfw/new-data-xoffset=1-yoffset=-4/lbp-norm-1-/'", 
      "v2pca=np.load(sdir+'data/view2-LBP-PCA-500-cosine-results.npy')", 
      "print v2pca", 
      "print 'Average Accuracy of Model (With PCA, Cosine Similarity) on View2 = %0.2f'%(np.mean(v2pca[:,1])*100)"
     ], 
     "language": "python", 
     "outputs": [
      {
       "output_type": "stream", 
       "stream": "stdout", 
       "text": [
        "[[ 500.            0.83666667]", 
        " [ 500.            0.82333333]", 
        " [ 500.            0.805     ]", 
        " [ 500.            0.81666667]", 
        " [ 500.            0.82166667]", 
        " [ 500.            0.84833333]", 
        " [ 500.            0.84833333]", 
        " [ 500.            0.82      ]", 
        " [ 500.            0.82166667]", 
        " [ 500.            0.82833333]]", 
        "Average Accuracy of Model (With PCA, Cosine Similarity) on View1 = 82.70"
       ]
      }
     ], 
     "prompt_number": 32
    }, 
    {
     "cell_type": "markdown", 
     "source": [
      "LTP Features", 
      "------------", 
      "$\\tau=5$"
     ]
    }, 
    {
     "cell_type": "code", 
     "collapsed": false, 
     "input": [
      "# Without PCA and Chi-Square Simpilarlity on View2", 
      "sdir='/scratch/fr/lfw/new-data-xoffset=1-yoffset=-4/LTP-tolerance=5/'", 
      "v2s=np.load(sdir+'data/view2-LTP-chi-square-simple-threshold-model-results.npy')", 
      "print v2s", 
      "print 'Average Accuracy of Simple Model (Without PCA, Chi-Square Distance) on View2 = %0.2f'%(np.mean(v2s)*100)", 
      "", 
      "# Without PCA and Chi-Square Simpilarlity on View2", 
      "sdir='/tmp_data/lfw/features/LTP-tolerance=7/'", 
      "v2s=np.load(sdir+'data/view2-LTP-chi-square-simple-threshold-model-results.npy')", 
      "print v2s", 
      "print 'Average Accuracy of Simple Model (Without PCA, Chi-Square Distance) on View2 = %0.2f'%(np.mean(v2s)*100)"
     ], 
     "language": "python", 
     "outputs": [
      {
       "output_type": "stream", 
       "stream": "stdout", 
       "text": [
        "[ 0.75333333  0.75        0.69        0.70333333  0.72333333  0.74833333", 
        "  0.77833333  0.69166667  0.71333333  0.73333333]", 
        "Average Accuracy of Simple Model (Without PCA, Chi-Square Distance) on View2 = 72.85", 
        "[ 0.71        0.73833333  0.66        0.685       0.70333333  0.72166667", 
        "  0.71333333  0.64666667  0.67666667  0.72333333]", 
        "Average Accuracy of Simple Model (Without PCA, Chi-Square Distance) on View2 = 69.78"
       ]
      }
     ], 
     "prompt_number": 10
    }, 
    {
     "cell_type": "code", 
     "collapsed": false, 
     "input": [
      "# With PCA (components = 500) and cosine Simpilarlity on View1", 
      "sdir='/scratch/fr/lfw/new-data-xoffset=1-yoffset=-4/LTP-tolerance=5/'", 
      "v2pca=np.load(sdir+'/data/view1-LTP-PCA-500-cosine-results.npy')", 
      "print v2pca[-1,:]", 
      "print 'Average Accuracy o# With PCA (components = 500) and cosine Simpilarlity on View1 = %0.2f'%(v2pca[-1,1]*100)"
     ], 
     "language": "python", 
     "outputs": [
      {
       "output_type": "stream", 
       "stream": "stdout", 
       "text": [
        "[ 500.       0.826]", 
        "Average Accuracy o# With PCA (components = 500) and cosine Simpilarlity on View1 = 82.60"
       ]
      }
     ], 
     "prompt_number": 44
    }, 
    {
     "cell_type": "code", 
     "collapsed": false, 
     "input": [
      "# With PCA (components = 500) and cosine Simpilarlity on View2 ", 
      "v2pca=np.load('/scratch/testing/experiments/features/LTP-tolerance=5/data/view2-LTP-PCA-500-cosine-results.npy') ", 
      "print v2pca", 
      "print 'Average Accuracy of Model (With PCA, Cosine Similarity) on View2 = %0.2f'%(np.mean(v2pca[:,1])*100)"
     ], 
     "language": "python", 
     "outputs": [
      {
       "output_type": "stream", 
       "stream": "stdout", 
       "text": [
        "[[ 50000.             86.5       ]", 
        " [ 50000.             84.33333333]", 
        " [ 50000.             80.66666667]", 
        " [ 50000.             80.66666667]", 
        " [ 50000.             82.66666667]", 
        " [ 50000.             84.83333333]", 
        " [ 50000.             85.66666667]", 
        " [ 50000.             81.16666667]", 
        " [ 50000.             81.33333333]", 
        " [ 50000.             86.5       ]]", 
        "Average Accuracy of Model (With PCA, Cosine Similarity) on View2 = 83.43"
       ]
      }
     ], 
     "prompt_number": 48
    }, 
    {
     "cell_type": "markdown", 
     "source": [
      "LQP Features", 
      "============", 
      "$\\tau=5$", 
      "", 
      "Geometry = $Disc_7^{3*}$", 
      "", 
      "Number of Visual Words=150 per codebook"
     ]
    }, 
    {
     "cell_type": "code", 
     "collapsed": false, 
     "input": [
      "# With PCA (components = 2000) and cosine Simpilarlity on View1 (Cross-Validation for number of PCA components)", 
      "sdir='/scratch/fr/lfw/new-data-xoffset=1-yoffset=-4/trained_on_view1/lqp-size=7-codebooksize=150-tolerance=5/'", 
      "v2pca=np.load(sdir+'/data/view1-LQP-PCA-2000-cosine-results.npy')", 
      "np.set_printoptions(suppress=True)", 
      "#print 'Accuracy =', v2pca", 
      "#print 'Average Accuracy o# With PCA (components = 500) and cosine Simpilarlity on View1 = %0.2f'%(v2pca[-1,1]*100)", 
      "plot(v2pca[:-2,0],v2pca[:-2,1],'-r',label='Number of PCA Components')", 
      "ylim(0.75,0.9)", 
      "legend(loc=0)", 
      "grid()", 
      "", 
      "# With PCA (components = 2000) and cosine Simpilarlity on View1 (Cross-Validation for number of PCA components)", 
      "sdir='/scratch/fr/lfw/new-data-xoffset=1-yoffset=-4/trained_on_view1/Circ-Split-100x170-norm-1-ptype-2-tol-5-PatchSize-7-CodeType4-150--UOMap'", 
      "v2pca=np.load(sdir+'/data/view1-LQP-PCA-2000-cosine-results.npy')", 
      "np.set_printoptions(suppress=True)", 
      "#print 'Accuracy =', v2pca", 
      "#print 'Average Accuracy o# With PCA (components = 500) and cosine Simpilarlity on View1 = %0.2f'%(v2pca[-1,1]*100)", 
      "plot(v2pca[:-2,0],v2pca[:-2,1],'-g',label='Number of PCA Components')", 
      "ylim(0.75,0.9)", 
      "legend(loc=0)", 
      "grid()"
     ], 
     "language": "python", 
     "outputs": [
      {
       "output_type": "display_data", 
       "png": "[encoded data removed]"
      }
     ], 
     "prompt_number": 14
    }, 
    {
     "cell_type": "code", 
     "collapsed": false, 
     "input": [
      "# With PCA (components = 1800) and cosine Simpilarlity on View2 ", 
      "sdir='/scratch/fr/lfw/new-data-xoffset=1-yoffset=-4/trained_on_view1/lqp-size=7-codebooksize=150-tolerance=5/'", 
      "v2pca=np.load(sdir+'/data/view2-LQP-PCA-1800-cosine-results.npy')", 
      "print v2pca", 
      "print 'Average Accuracy of Model (With PCA, Cosine Similarity) on View2 = %0.2f(%f)'%(np.mean(v2pca[:,1])*100,np.std(v2pca[:,1]))", 
      "", 
      "sdir='/scratch/fr/lfw/new-data-xoffset=1-yoffset=-4/trained_on_view1/Circ-Split-100x170-norm-1-ptype-2-tol-5-PatchSize-7-CodeType4-150--UOMap'", 
      "v2pca=np.load(sdir+'/data/view2-LQP-PCA-1600-cosine-results.npy')", 
      "print v2pca", 
      "print 'Average Accuracy of Model (With PCA, Cosine Similarity) on View2 = %0.2f(%f)'%(np.mean(v2pca[:,1])*100,np.std(v2pca[:,1]))"
     ], 
     "language": "python", 
     "outputs": [
      {
       "output_type": "stream", 
       "stream": "stdout", 
       "text": [
        "[[ 1800.             0.87333333]", 
        " [ 1800.             0.84      ]", 
        " [ 1800.             0.83833333]", 
        " [ 1800.             0.845     ]", 
        " [ 1800.             0.84833333]", 
        " [ 1800.             0.88333333]", 
        " [ 1800.             0.86666667]", 
        " [ 1800.             0.85666667]", 
        " [ 1800.             0.84666667]", 
        " [ 1800.             0.87666667]]", 
        "Average Accuracy of Model (With PCA, Cosine Similarity) on View2 = 85.75(0.015496)", 
        "[[ 1600.             0.86166667]", 
        " [ 1600.             0.85166667]", 
        " [ 1600.             0.85166667]", 
        " [ 1600.             0.85166667]", 
        " [ 1600.             0.845     ]", 
        " [ 1600.             0.86833333]", 
        " [ 1600.             0.885     ]", 
        " [ 1600.             0.835     ]", 
        " [ 1600.             0.83666667]", 
        " [ 1600.             0.86833333]]"
       ]
      }, 
      {
       "output_type": "stream", 
       "stream": "stdout", 
       "text": [
        "", 
        "Average Accuracy of Model (With PCA, Cosine Similarity) on View2 = 85.55(0.014721)"
       ]
      }
     ], 
     "prompt_number": 15
    }, 
    {
     "cell_type": "markdown", 
     "source": [
      "$\\tau=7$", 
      "", 
      "Geometry = $Disc_7^{3*}$", 
      "", 
      "Number of Visual Words=150 per codebook"
     ]
    }, 
    {
     "cell_type": "code", 
     "collapsed": false, 
     "input": [
      "# With PCA (components = 2000) and cosine Simpilarlity on View1 (Cross-Validation for number of PCA components)", 
      "sdir='/tmp_data/lfw/features/lqp-size=7-codebooksize=150-tolerance=7/'", 
      "v2pca=np.load(sdir+'/data/view1-LQP-PCA-2000-cosine-results.npy')", 
      "np.set_printoptions(suppress=True)", 
      "#print 'Accuracy =', v2pca", 
      "#print 'Average Accuracy o# With PCA (components = 500) and cosine Simpilarlity on View1 = %0.2f'%(v2pca[-1,1]*100)", 
      "plot(v2pca[:-2,0],v2pca[:-2,1],'-r',label='Number of PCA Components')", 
      "ylim(0.75,0.9)", 
      "legend(loc=0)", 
      "grid()", 
      "", 
      "# With PCA (components = 2000) and cosine Simpilarlity on View1 (Cross-Validation for number of PCA components)", 
      "sdir='/scratch/fr/lfw/new-data-xoffset=1-yoffset=-4/trained_on_view1/Circ-Split-100x170-norm-1-ptype-2-tol-7-PatchSize-7-CodeType4-150--UOMap/'", 
      "v2pca=np.load(sdir+'/data/view1-LQP-PCA-2000-cosine-results.npy')", 
      "np.set_printoptions(suppress=True)", 
      "#print 'Accuracy =', v2pca", 
      "#print 'Average Accuracy o# With PCA (components = 500) and cosine Simpilarlity on View1 = %0.2f'%(v2pca[-1,1]*100)", 
      "plot(v2pca[:-2,0],v2pca[:-2,1],'-g',label='Number of PCA Components')", 
      "ylim(0.75,0.9)", 
      "legend(loc=0)", 
      "grid()", 
      ""
     ], 
     "language": "python", 
     "outputs": [
      {
       "output_type": "display_data", 
       "png": "[encoded data removed]"
      }
     ], 
     "prompt_number": 16
    }, 
    {
     "cell_type": "code", 
     "collapsed": false, 
     "input": [
      "# With PCA (components = 1400) and cosine Simpilarlity on View2 ", 
      "sdir='/tmp_data/lfw/features/lqp-size=7-codebooksize=150-tolerance=7/'", 
      "v2pca=np.load(sdir+'/data/view2-LQP-PCA-1400-cosine-results.npy')", 
      "print v2pca", 
      "print 'Average Accuracy of Model (With PCA, Cosine Similarity) on View2 = %0.2f(%f)'%(np.mean(v2pca[:,1])*100,np.std(v2pca[:,1]))", 
      ""
     ], 
     "language": "python", 
     "outputs": [
      {
       "output_type": "stream", 
       "stream": "stdout", 
       "text": [
        "[[ 1400.             0.86166667]", 
        " [ 1400.             0.85      ]", 
        " [ 1400.             0.85666667]", 
        " [ 1400.             0.84666667]", 
        " [ 1400.             0.83166667]", 
        " [ 1400.             0.86166667]", 
        " [ 1400.             0.85833333]", 
        " [ 1400.             0.84333333]", 
        " [ 1400.             0.83666667]", 
        " [ 1400.             0.865     ]]", 
        "Average Accuracy of Model (With PCA, Cosine Similarity) on View2 = 85.12(0.010803)"
       ]
      }
     ], 
     "prompt_number": 7
    }
   ]
  }
 ]
}