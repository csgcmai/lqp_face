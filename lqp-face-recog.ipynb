{
 "metadata": {
  "name": "lqp-face-recog"
 }, 
 "nbformat": 2, 
 "worksheets": [
  {
   "cells": [
    {
     "cell_type": "markdown", 
     "source": [
      "Experiments on Deeply Funneled ", 
      "=============================", 
      "Cropping Offsets: (X x Y)= (+1 x -4)", 
      "", 
      "LBP Features", 
      "-------------"
     ]
    }, 
    {
     "cell_type": "code", 
     "collapsed": false, 
     "input": [
      "# Without PCA and Chi-Square Simpilarlity on View2", 
      "v2s=np.load('/scratch/testing/experiments-deeply-funelled/features/LBP/data/view2-LBP-chi-square-simple-threshold-model-results.npy')", 
      "print v2s", 
      "print 'Average Accuracy of Simple Model (Without PCA, Chi-Square Distance) on View2 = %0.2f'%(np.mean(v2s)*100)"
     ], 
     "language": "python", 
     "outputs": [
      {
       "output_type": "stream", 
       "stream": "stdout", 
       "text": [
        "[ 0.705       0.69        0.665       0.68166667  0.70166667  0.70166667", 
        "  0.72166667  0.68333333  0.65166667  0.685     ]", 
        "Average of Simple Model (Without PCA, Chi-Square Distance) on View2 = 68.87"
       ]
      }
     ], 
     "prompt_number": 11
    }, 
    {
     "cell_type": "code", 
     "collapsed": false, 
     "input": [
      "# With PCA (components = 500) and cosine Simpilarlity on View1", 
      "v2pca=np.load('/scratch/testing/experiments-deeply-funelled/features/LBP/data/view1-LBP-PCA-500-cosine-results.npy')", 
      "print v2pca", 
      "print 'Average Accuracy of Model (With PCA, Cosine Similarity) on View1 = %0.2f'%(v2pca[:,1]*100)"
     ], 
     "language": "python", 
     "outputs": [
      {
       "output_type": "stream", 
       "stream": "stdout", 
       "text": [
        "[[ 500.       0.798]]", 
        "Average of Model (With PCA, Cosine Similarity) on View1 = 79.80"
       ]
      }
     ], 
     "prompt_number": 12
    }, 
    {
     "cell_type": "code", 
     "collapsed": false, 
     "input": [
      "# With PCA (components = 500) and cosine Simpilarlity on View2", 
      "v2pca=np.load('/scratch/testing/experiments-deeply-funelled/features/LBP/data/view2-LBP-PCA-500-cosine-results.npy')", 
      "print v2pca", 
      "print 'Average Accuracy of Model (With PCA, Cosine Similarity) on View2 = %0.2f'%(np.mean(v2pca[:,1])*100)"
     ], 
     "language": "python", 
     "outputs": [
      {
       "output_type": "stream", 
       "stream": "stdout", 
       "text": [
        "[[ 500.            0.82166667]", 
        " [ 500.            0.79333333]", 
        " [ 500.            0.79833333]", 
        " [ 500.            0.81333333]", 
        " [ 500.            0.82166667]", 
        " [ 500.            0.83166667]", 
        " [ 500.            0.84      ]", 
        " [ 500.            0.80833333]", 
        " [ 500.            0.81166667]", 
        " [ 500.            0.80833333]]", 
        "Average of Model (With PCA, Cosine Similarity) on View2 = 81.48"
       ]
      }
     ], 
     "prompt_number": 9
    }, 
    {
     "cell_type": "markdown", 
     "source": [
      "LTP Features", 
      "-------------", 
      "$\\tau=5$"
     ]
    }, 
    {
     "cell_type": "code", 
     "collapsed": false, 
     "input": [
      "# Without PCA and Chi-Square Simpilarlity on View2", 
      "v2s=np.load('/scratch/testing/experiments-deeply-funelled/features/LTP-tolerance=5/data/view2-LTP-chi-square-simple-threshold-model-results.npy')", 
      "print v2s", 
      "print 'Average Accuracy of Simple Model (Without PCA, Chi-Square Distance) on View2 = %0.2f'%(np.mean(v2s)*100)"
     ], 
     "language": "python", 
     "outputs": [
      {
       "output_type": "stream", 
       "stream": "stdout", 
       "text": [
        "[ 0.70833333  0.725       0.68833333  0.68666667  0.72833333  0.71333333", 
        "  0.73833333  0.69        0.67833333  0.70666667]", 
        "Average Accuracy of Simple Model (Without PCA, Chi-Square Distance) on View2 = 70.63"
       ]
      }
     ], 
     "prompt_number": 21
    }, 
    {
     "cell_type": "code", 
     "collapsed": false, 
     "input": [
      "# With PCA (components = 500) and cosine Simpilarlity on View1", 
      "v2pca=np.load('/scratch/testing/experiments-deeply-funelled/features/LTP-tolerance=5/data/view1-LTP-PCA-500-cosine-results.npy')", 
      "print v2pca", 
      "print 'Average Accuracy o# With PCA (components = 500) and cosine Simpilarlity on View1 = %0.2f'%(v2pca[:,1]*100)"
     ], 
     "language": "python", 
     "outputs": [
      {
       "output_type": "stream", 
       "stream": "stdout", 
       "text": [
        "[[ 500.       0.813]]", 
        "Average Accuracy o# With PCA (components = 500) and cosine Simpilarlity on View1 = 81.30"
       ]
      }
     ], 
     "prompt_number": 41
    }, 
    {
     "cell_type": "code", 
     "collapsed": false, 
     "input": [
      "# With PCA (components = 500) and cosine Simpilarlity on View2", 
      "v2pca=np.load('/scratch/testing/experiments-deeply-funelled/features/LTP-tolerance=5/data/view2-LTP-PCA-500-cosine-results.npy')", 
      "print v2pca", 
      "print 'Average Accuracy of Model (With PCA, Cosine Similarity) on View2 = %0.2f'%(np.mean(v2pca[:,1])*100)"
     ], 
     "language": "python", 
     "outputs": [
      {
       "output_type": "stream", 
       "stream": "stdout", 
       "text": [
        "[[ 500.            0.80833333]", 
        " [ 500.            0.80666667]", 
        " [ 500.            0.815     ]", 
        " [ 500.            0.79833333]", 
        " [ 500.            0.82833333]", 
        " [ 500.            0.80166667]", 
        " [ 500.            0.82833333]", 
        " [ 500.            0.78333333]", 
        " [ 500.            0.8       ]", 
        " [ 500.            0.825     ]]", 
        "Average Accuracy of Model (With PCA, Cosine Similarity) on View2 = 80.95"
       ]
      }
     ], 
     "prompt_number": 38
    }, 
    {
     "cell_type": "markdown", 
     "source": [
      "RGB Images:"
     ]
    }, 
    {
     "cell_type": "code", 
     "collapsed": false, 
     "input": [
      "# Without PCA and Chi-Square Simpilarlity on View2", 
      "v2s=np.load('/scratch/testing/experiments-deeply-funelled/features-rgb/LTP-tolerance=5/data/view2-LTP-chi-square-simple-threshold-model-results.npy')", 
      "print v2s", 
      "print 'Average Accuracy of Simple Model (Without PCA, Chi-Square Distance) on View2 = %0.2f'%(np.mean(v2s)*100)"
     ], 
     "language": "python", 
     "outputs": [
      {
       "output_type": "stream", 
       "stream": "stdout", 
       "text": [
        "[ 0.69833333  0.71833333  0.68833333  0.675       0.725       0.71166667", 
        "  0.75833333  0.695       0.68333333  0.70166667]", 
        "Average Accuracy of Simple Model (Without PCA, Chi-Square Distance) on View2 = 70.55"
       ]
      }
     ], 
     "prompt_number": 17
    }, 
    {
     "cell_type": "markdown", 
     "source": [
      "Experiments on Deeply Funneled ", 
      "================================", 
      "Cropping Offsets: (X x Y)= (0 x 0)", 
      "", 
      "LTP Features", 
      "-------------", 
      "$\\tau=5$"
     ]
    }, 
    {
     "cell_type": "code", 
     "collapsed": false, 
     "input": [
      "# Without PCA and Chi-Square Simpilarlity on View2", 
      "v2s=np.load('/scratch/testing/experiments-deeply-funelled-xoffset=0-yoffset=0/features/LTP-tolerance=5/data/view2-LTP-chi-square-simple-threshold-model-results.npy')", 
      "print v2s", 
      "print 'Average Accuracy of Simple Model (Without PCA, Chi-Square Distance) on View2 = %0.2f'%(np.mean(v2s)*100)"
     ], 
     "language": "python", 
     "outputs": [
      {
       "output_type": "stream", 
       "stream": "stdout", 
       "text": [
        "[ 0.71166667  0.725       0.68666667  0.68333333  0.73666667  0.71833333", 
        "  0.73666667  0.69333333  0.66333333  0.71333333]", 
        "Average Accuracy of Simple Model (Without PCA, Chi-Square Distance) on View2 = 70.68"
       ]
      }
     ], 
     "prompt_number": 16
    }, 
    {
     "cell_type": "markdown", 
     "source": [
      "Experiments on LFW-Aligned", 
      "=============================", 
      "Cropping Offsets: (X x Y)= (+1 x -4)", 
      "", 
      "LBP Features", 
      "-------------"
     ]
    }, 
    {
     "cell_type": "code", 
     "collapsed": false, 
     "input": [
      "# Without PCA and Chi-Square Simpilarlity on View2", 
      "sdir='/scratch/fr/lfw/new-data-xoffset=1-yoffset=-4/lbp-norm-1-/'", 
      "v2s=np.load(sdir+'data/view2-LBP-chi-square-simple-threshold-model-results.npy')", 
      "print v2s", 
      "print 'Average Accuracy of Simple Model (Without PCA, Chi-Square Distance) on View2 = %0.2f'%(np.mean(v2s)*100)"
     ], 
     "language": "python", 
     "outputs": [
      {
       "output_type": "stream", 
       "stream": "stdout", 
       "text": [
        "[ 0.73333333  0.71        0.71166667  0.695       0.685       0.73833333", 
        "  0.72        0.68833333  0.65666667  0.70833333]", 
        "Average Accuracy of Simple Model (Without PCA, Chi-Square Distance) on View2 = 70.47"
       ]
      }
     ], 
     "prompt_number": 22
    }, 
    {
     "cell_type": "code", 
     "collapsed": false, 
     "input": [
      "# With PCA (components = 500) and cosine Simpilarlity on View1", 
      "sdir='/scratch/fr/lfw/new-data-xoffset=1-yoffset=-4/lbp-norm-1-/'", 
      "v2pca=np.load(sdir+'data/view1-LBP-PCA-500-cosine-results.npy')", 
      "print v2pca[-1,:]", 
      "print 'Average Accuracy of Model (With PCA, Cosine Similarity) on View1 = %0.2f'%(np.mean(v2pca[-1,1])*100)"
     ], 
     "language": "python", 
     "outputs": [
      {
       "output_type": "stream", 
       "stream": "stdout", 
       "text": [
        "[ 500.       0.833]", 
        "Average Accuracy of Model (With PCA, Cosine Similarity) on View1 = 83.30"
       ]
      }
     ], 
     "prompt_number": 35
    }, 
    {
     "cell_type": "code", 
     "collapsed": false, 
     "input": [
      "# With PCA (components = 500) and cosine Simpilarlity on View2", 
      "sdir='/scratch/fr/lfw/new-data-xoffset=1-yoffset=-4/lbp-norm-1-/'", 
      "v2pca=np.load(sdir+'data/view2-LBP-PCA-500-cosine-results.npy')", 
      "print v2pca", 
      "print 'Average Accuracy of Model (With PCA, Cosine Similarity) on View2 = %0.2f'%(np.mean(v2pca[:,1])*100)"
     ], 
     "language": "python", 
     "outputs": [
      {
       "output_type": "stream", 
       "stream": "stdout", 
       "text": [
        "[[ 500.            0.83666667]", 
        " [ 500.            0.82333333]", 
        " [ 500.            0.805     ]", 
        " [ 500.            0.81666667]", 
        " [ 500.            0.82166667]", 
        " [ 500.            0.84833333]", 
        " [ 500.            0.84833333]", 
        " [ 500.            0.82      ]", 
        " [ 500.            0.82166667]", 
        " [ 500.            0.82833333]]", 
        "Average Accuracy of Model (With PCA, Cosine Similarity) on View1 = 82.70"
       ]
      }
     ], 
     "prompt_number": 32
    }, 
    {
     "cell_type": "markdown", 
     "source": [
      "LTP Features", 
      "------------", 
      "$\\tau=5$"
     ]
    }, 
    {
     "cell_type": "code", 
     "collapsed": false, 
     "input": [
      "# Without PCA and Chi-Square Simpilarlity on View2", 
      "sdir='/scratch/fr/lfw/new-data-xoffset=1-yoffset=-4/LTP-tolerance=5/'", 
      "v2s=np.load(sdir+'data/view2-LTP-chi-square-simple-threshold-model-results.npy')", 
      "print v2s", 
      "print 'Average Accuracy of Simple Model (Without PCA, Chi-Square Distance) on View2 = %0.2f'%(np.mean(v2s)*100)"
     ], 
     "language": "python", 
     "outputs": [
      {
       "output_type": "stream", 
       "stream": "stdout", 
       "text": [
        "[ 0.75333333  0.75        0.69        0.70333333  0.72333333  0.74833333", 
        "  0.77833333  0.69166667  0.71333333  0.73333333]", 
        "Average Accuracy of Simple Model (Without PCA, Chi-Square Distance) on View2 = 72.85"
       ]
      }
     ], 
     "prompt_number": 45
    }, 
    {
     "cell_type": "code", 
     "collapsed": false, 
     "input": [
      "# With PCA (components = 500) and cosine Simpilarlity on View1", 
      "sdir='/scratch/fr/lfw/new-data-xoffset=1-yoffset=-4/LTP-tolerance=5/'", 
      "v2pca=np.load(sdir+'/data/view1-LTP-PCA-500-cosine-results.npy')", 
      "print v2pca[-1,:]", 
      "print 'Average Accuracy o# With PCA (components = 500) and cosine Simpilarlity on View1 = %0.2f'%(v2pca[-1,1]*100)"
     ], 
     "language": "python", 
     "outputs": [
      {
       "output_type": "stream", 
       "stream": "stdout", 
       "text": [
        "[ 500.       0.826]", 
        "Average Accuracy o# With PCA (components = 500) and cosine Simpilarlity on View1 = 82.60"
       ]
      }
     ], 
     "prompt_number": 44
    }, 
    {
     "cell_type": "code", 
     "collapsed": false, 
     "input": [
      "# With PCA (components = 500) and cosine Simpilarlity on View2 ", 
      "", 
      "v2pca=np.load('/scratch/testing/experiments/features/LTP-tolerance=5/data/view2-LTP-PCA-500-cosine-results.npy') ", 
      "", 
      "print v2pca", 
      "", 
      "print 'Average Accuracy of Model (With PCA, Cosine Similarity) on View2 = %0.2f'%(np.mean(v2pca[:,1])*100)"
     ], 
     "language": "python", 
     "outputs": [
      {
       "output_type": "stream", 
       "stream": "stdout", 
       "text": [
        "[[ 50000.             86.5       ]", 
        " [ 50000.             84.33333333]", 
        " [ 50000.             80.66666667]", 
        " [ 50000.             80.66666667]", 
        " [ 50000.             82.66666667]", 
        " [ 50000.             84.83333333]", 
        " [ 50000.             85.66666667]", 
        " [ 50000.             81.16666667]", 
        " [ 50000.             81.33333333]", 
        " [ 50000.             86.5       ]]", 
        "Average Accuracy of Model (With PCA, Cosine Similarity) on View2 = 83.43"
       ]
      }
     ], 
     "prompt_number": 48
    }, 
    {
     "cell_type": "markdown", 
     "source": [
      "LQP Features", 
      "============", 
      "$\\tau=7$", 
      "", 
      "Geometry = $Disc_7^{3*}$", 
      "", 
      "Number of Visual Words=150 per codebook"
     ]
    }, 
    {
     "cell_type": "code", 
     "collapsed": false, 
     "input": [
      "%pylab inline", 
      "# With PCA (components = 2000) and cosine Simpilarlity on View1 (Cross-Validation for number of PCA components)", 
      "sdir='/scratch/fr/lfw/new-data-xoffset=1-yoffset=-4/trained_on_view1/lqp-size=7-codebooksize=150-tolerance=5/'", 
      "v2pca=np.load(sdir+'/data/view1-LQP-PCA-2000-cosine-results.npy')", 
      "np.set_printoptions(suppress=True)", 
      "#print 'Accuracy =', v2pca", 
      "#print 'Average Accuracy o# With PCA (components = 500) and cosine Simpilarlity on View1 = %0.2f'%(v2pca[-1,1]*100)", 
      "plot(v2pca[:,0],v2pca[:,1])"
     ], 
     "language": "python", 
     "outputs": [
      {
       "output_type": "stream", 
       "stream": "stdout", 
       "text": [
        "", 
        "Welcome to pylab, a matplotlib-based Python environment [backend: module://IPython.zmq.pylab.backend_inline].", 
        "For more information, type 'help(pylab)'."
       ]
      }, 
      {
       "ename": "RuntimeError", 
       "evalue": "Cannot activate multiple GUI eventloops", 
       "output_type": "pyerr", 
       "traceback": [
        "\u001b[0;31m---------------------------------------------------------------------------\u001b[0m\n\u001b[0;31mRuntimeError\u001b[0m                              Traceback (most recent call last)", 
        "\u001b[0;32m/home/hussain/research/workspace/matlab/LFW/<ipython-input-55-91b88c1024ba>\u001b[0m in \u001b[0;36m<module>\u001b[0;34m()\u001b[0m\n\u001b[0;32m----> 1\u001b[0;31m \u001b[0mget_ipython\u001b[0m\u001b[0;34m(\u001b[0m\u001b[0;34m)\u001b[0m\u001b[0;34m.\u001b[0m\u001b[0mmagic\u001b[0m\u001b[0;34m(\u001b[0m\u001b[0;34mu'pylab inline'\u001b[0m\u001b[0;34m)\u001b[0m\u001b[0;34m\u001b[0m\u001b[0m\n\u001b[0m\u001b[1;32m      2\u001b[0m \u001b[0;31m# With PCA (components = 2000) and cosine Simpilarlity on View1 (Cross-Validation for number of PCA components)\u001b[0m\n\u001b[0;34m\u001b[0m\u001b[0m\n\u001b[1;32m      3\u001b[0m \u001b[0msdir\u001b[0m\u001b[0;34m=\u001b[0m\u001b[0;34m'/scratch/fr/lfw/new-data-xoffset=1-yoffset=-4/trained_on_view1/lqp-size=7-codebooksize=150-tolerance=5/'\u001b[0m\u001b[0;34m\u001b[0m\u001b[0m\n\u001b[1;32m      4\u001b[0m \u001b[0mv2pca\u001b[0m\u001b[0;34m=\u001b[0m\u001b[0mnp\u001b[0m\u001b[0;34m.\u001b[0m\u001b[0mload\u001b[0m\u001b[0;34m(\u001b[0m\u001b[0msdir\u001b[0m\u001b[0;34m+\u001b[0m\u001b[0;34m'/data/view1-LQP-PCA-2000-cosine-results.npy'\u001b[0m\u001b[0;34m)\u001b[0m\u001b[0;34m\u001b[0m\u001b[0m\n\u001b[1;32m      5\u001b[0m \u001b[0mnp\u001b[0m\u001b[0;34m.\u001b[0m\u001b[0mset_printoptions\u001b[0m\u001b[0;34m(\u001b[0m\u001b[0msuppress\u001b[0m\u001b[0;34m=\u001b[0m\u001b[0mTrue\u001b[0m\u001b[0;34m)\u001b[0m\u001b[0;34m\u001b[0m\u001b[0m\n", 
        "\u001b[0;32m/usr/lib/python2.7/dist-packages/IPython/core/interactiveshell.pyc\u001b[0m in \u001b[0;36mmagic\u001b[0;34m(self, arg_s, next_input)\u001b[0m\n\u001b[1;32m   1983\u001b[0m                 \u001b[0mself\u001b[0m\u001b[0;34m.\u001b[0m\u001b[0m_magic_locals\u001b[0m \u001b[0;34m=\u001b[0m \u001b[0msys\u001b[0m\u001b[0;34m.\u001b[0m\u001b[0m_getframe\u001b[0m\u001b[0;34m(\u001b[0m\u001b[0;36m1\u001b[0m\u001b[0;34m)\u001b[0m\u001b[0;34m.\u001b[0m\u001b[0mf_locals\u001b[0m\u001b[0;34m\u001b[0m\u001b[0m\n\u001b[1;32m   1984\u001b[0m             \u001b[0;32mwith\u001b[0m \u001b[0mself\u001b[0m\u001b[0;34m.\u001b[0m\u001b[0mbuiltin_trap\u001b[0m\u001b[0;34m:\u001b[0m\u001b[0;34m\u001b[0m\u001b[0m\n\u001b[0;32m-> 1985\u001b[0;31m                 \u001b[0mresult\u001b[0m \u001b[0;34m=\u001b[0m \u001b[0mfn\u001b[0m\u001b[0;34m(\u001b[0m\u001b[0mmagic_args\u001b[0m\u001b[0;34m)\u001b[0m\u001b[0;34m\u001b[0m\u001b[0m\n\u001b[0m\u001b[1;32m   1986\u001b[0m             \u001b[0;31m# Ensure we're not keeping object references around:\u001b[0m\n\u001b[0;34m\u001b[0m\u001b[0m\n\u001b[1;32m   1987\u001b[0m             \u001b[0mself\u001b[0m\u001b[0;34m.\u001b[0m\u001b[0m_magic_locals\u001b[0m \u001b[0;34m=\u001b[0m \u001b[0;34m{\u001b[0m\u001b[0;34m}\u001b[0m\u001b[0;34m\u001b[0m\u001b[0m\n", 
        "\u001b[0;32m/usr/lib/python2.7/dist-packages/IPython/core/magic.pyc\u001b[0m in \u001b[0;36mmagic_pylab\u001b[0;34m(self, s)\u001b[0m\n\u001b[1;32m   3471\u001b[0m             \u001b[0mimport_all_status\u001b[0m \u001b[0;34m=\u001b[0m \u001b[0mTrue\u001b[0m\u001b[0;34m\u001b[0m\u001b[0m\n\u001b[1;32m   3472\u001b[0m \u001b[0;34m\u001b[0m\u001b[0m\n\u001b[0;32m-> 3473\u001b[0;31m         \u001b[0mself\u001b[0m\u001b[0;34m.\u001b[0m\u001b[0mshell\u001b[0m\u001b[0;34m.\u001b[0m\u001b[0menable_pylab\u001b[0m\u001b[0;34m(\u001b[0m\u001b[0ms\u001b[0m\u001b[0;34m,\u001b[0m \u001b[0mimport_all\u001b[0m\u001b[0;34m=\u001b[0m\u001b[0mimport_all_status\u001b[0m\u001b[0;34m)\u001b[0m\u001b[0;34m\u001b[0m\u001b[0m\n\u001b[0m\u001b[1;32m   3474\u001b[0m \u001b[0;34m\u001b[0m\u001b[0m\n\u001b[1;32m   3475\u001b[0m     \u001b[0;32mdef\u001b[0m \u001b[0mmagic_tb\u001b[0m\u001b[0;34m(\u001b[0m\u001b[0mself\u001b[0m\u001b[0;34m,\u001b[0m \u001b[0ms\u001b[0m\u001b[0;34m)\u001b[0m\u001b[0;34m:\u001b[0m\u001b[0;34m\u001b[0m\u001b[0m\n", 
        "\u001b[0;32m/usr/lib/python2.7/dist-packages/IPython/core/interactiveshell.pyc\u001b[0m in \u001b[0;36menable_pylab\u001b[0;34m(self, gui, import_all)\u001b[0m\n\u001b[1;32m   2600\u001b[0m         \u001b[0;31m# Now we must activate the gui pylab wants to use, and fix %run to take\u001b[0m\n\u001b[0;34m\u001b[0m\u001b[0m\n\u001b[1;32m   2601\u001b[0m         \u001b[0;31m# plot updates into account\u001b[0m\n\u001b[0;34m\u001b[0m\u001b[0m\n\u001b[0;32m-> 2602\u001b[0;31m         \u001b[0mself\u001b[0m\u001b[0;34m.\u001b[0m\u001b[0menable_gui\u001b[0m\u001b[0;34m(\u001b[0m\u001b[0mgui\u001b[0m\u001b[0;34m)\u001b[0m\u001b[0;34m\u001b[0m\u001b[0m\n\u001b[0m\u001b[1;32m   2603\u001b[0m         \u001b[0mself\u001b[0m\u001b[0;34m.\u001b[0m\u001b[0mmagic_run\u001b[0m \u001b[0;34m=\u001b[0m \u001b[0mself\u001b[0m\u001b[0;34m.\u001b[0m\u001b[0m_pylab_magic_run\u001b[0m\u001b[0;34m\u001b[0m\u001b[0m\n\u001b[1;32m   2604\u001b[0m \u001b[0;34m\u001b[0m\u001b[0m\n", 
        "\u001b[0;32m/usr/lib/python2.7/dist-packages/IPython/zmq/eventloops.pyc\u001b[0m in \u001b[0;36menable_gui\u001b[0;34m(gui, kernel)\u001b[0m\n\u001b[1;32m    203\u001b[0m     \u001b[0mloop\u001b[0m \u001b[0;34m=\u001b[0m \u001b[0mloop_map\u001b[0m\u001b[0;34m[\u001b[0m\u001b[0mgui\u001b[0m\u001b[0;34m]\u001b[0m\u001b[0;34m\u001b[0m\u001b[0m\n\u001b[1;32m    204\u001b[0m     \u001b[0;32mif\u001b[0m \u001b[0mkernel\u001b[0m\u001b[0;34m.\u001b[0m\u001b[0meventloop\u001b[0m \u001b[0;32mis\u001b[0m \u001b[0;32mnot\u001b[0m \u001b[0mNone\u001b[0m \u001b[0;32mand\u001b[0m \u001b[0mkernel\u001b[0m\u001b[0;34m.\u001b[0m\u001b[0meventloop\u001b[0m \u001b[0;32mis\u001b[0m \u001b[0;32mnot\u001b[0m \u001b[0mloop\u001b[0m\u001b[0;34m:\u001b[0m\u001b[0;34m\u001b[0m\u001b[0m\n\u001b[0;32m--> 205\u001b[0;31m         \u001b[0;32mraise\u001b[0m \u001b[0mRuntimeError\u001b[0m\u001b[0;34m(\u001b[0m\u001b[0;34m\"Cannot activate multiple GUI eventloops\"\u001b[0m\u001b[0;34m)\u001b[0m\u001b[0;34m\u001b[0m\u001b[0m\n\u001b[0m\u001b[1;32m    206\u001b[0m     \u001b[0mkernel\u001b[0m\u001b[0;34m.\u001b[0m\u001b[0meventloop\u001b[0m \u001b[0;34m=\u001b[0m \u001b[0mloop\u001b[0m\u001b[0;34m\u001b[0m\u001b[0m\n", 
        "\u001b[0;31mRuntimeError\u001b[0m: Cannot activate multiple GUI eventloops"
       ]
      }
     ], 
     "prompt_number": 55
    }, 
    {
     "cell_type": "code", 
     "collapsed": true, 
     "input": [], 
     "language": "python", 
     "outputs": []
    }
   ]
  }
 ]
}